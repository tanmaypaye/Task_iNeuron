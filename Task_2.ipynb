{
 "cells": [
  {
   "cell_type": "code",
   "execution_count": 1,
   "id": "377ce9b1",
   "metadata": {},
   "outputs": [],
   "source": [
    "l = [3,4,5,6,7, [23,456,67,8,78,78], [345,56,87,8,98,9], (234,6657,6), {'key1':'sudh', 234:[23,45,656]}]"
   ]
  },
  {
   "cell_type": "markdown",
   "id": "7af8c779",
   "metadata": {},
   "source": [
    "1. reverse a list"
   ]
  },
  {
   "cell_type": "code",
   "execution_count": 2,
   "id": "14881d4f",
   "metadata": {},
   "outputs": [],
   "source": [
    "l.reverse()"
   ]
  },
  {
   "cell_type": "code",
   "execution_count": 3,
   "id": "4553b3e1",
   "metadata": {},
   "outputs": [
    {
     "data": {
      "text/plain": [
       "[{'key1': 'sudh', 234: [23, 45, 656]},\n",
       " (234, 6657, 6),\n",
       " [345, 56, 87, 8, 98, 9],\n",
       " [23, 456, 67, 8, 78, 78],\n",
       " 7,\n",
       " 6,\n",
       " 5,\n",
       " 4,\n",
       " 3]"
      ]
     },
     "execution_count": 3,
     "metadata": {},
     "output_type": "execute_result"
    }
   ],
   "source": [
    "l"
   ]
  },
  {
   "cell_type": "markdown",
   "id": "0c9745f0",
   "metadata": {},
   "source": [
    "2. access 234 out of this list"
   ]
  },
  {
   "cell_type": "code",
   "execution_count": 25,
   "id": "9c925670",
   "metadata": {},
   "outputs": [
    {
     "data": {
      "text/plain": [
       "234"
      ]
     },
     "execution_count": 25,
     "metadata": {},
     "output_type": "execute_result"
    }
   ],
   "source": [
    "list(l[0].keys())[1]"
   ]
  },
  {
   "cell_type": "code",
   "execution_count": 17,
   "id": "e2ce2f0d",
   "metadata": {},
   "outputs": [
    {
     "data": {
      "text/plain": [
       "234"
      ]
     },
     "execution_count": 17,
     "metadata": {},
     "output_type": "execute_result"
    }
   ],
   "source": [
    "l[1][0]"
   ]
  },
  {
   "cell_type": "code",
   "execution_count": 26,
   "id": "c1f30a0b",
   "metadata": {},
   "outputs": [
    {
     "data": {
      "text/plain": [
       "(234, 234)"
      ]
     },
     "execution_count": 26,
     "metadata": {},
     "output_type": "execute_result"
    }
   ],
   "source": [
    "list(l[0].keys())[1] , l[1][0]"
   ]
  },
  {
   "cell_type": "markdown",
   "id": "7b832976",
   "metadata": {},
   "source": [
    "3. access 456"
   ]
  },
  {
   "cell_type": "code",
   "execution_count": 20,
   "id": "66546433",
   "metadata": {},
   "outputs": [
    {
     "data": {
      "text/plain": [
       "456"
      ]
     },
     "execution_count": 20,
     "metadata": {},
     "output_type": "execute_result"
    }
   ],
   "source": [
    "l[3][1]"
   ]
  },
  {
   "cell_type": "markdown",
   "id": "fe196e93",
   "metadata": {},
   "source": [
    "4. extract only list collections"
   ]
  },
  {
   "cell_type": "code",
   "execution_count": 29,
   "id": "09e5b45c",
   "metadata": {},
   "outputs": [
    {
     "data": {
      "text/plain": [
       "([23, 45, 656], [345, 56, 87, 8, 98, 9], [23, 456, 67, 8, 78, 78])"
      ]
     },
     "execution_count": 29,
     "metadata": {},
     "output_type": "execute_result"
    }
   ],
   "source": [
    "list(l[0].values())[1], l[2], l[3]"
   ]
  },
  {
   "cell_type": "markdown",
   "id": "2bcd0a60",
   "metadata": {},
   "source": [
    "5. extract 'sudh' "
   ]
  },
  {
   "cell_type": "code",
   "execution_count": 35,
   "id": "4a3aa3b4",
   "metadata": {},
   "outputs": [
    {
     "data": {
      "text/plain": [
       "'sudh'"
      ]
     },
     "execution_count": 35,
     "metadata": {},
     "output_type": "execute_result"
    }
   ],
   "source": [
    "list(l[0].values())[0]"
   ]
  },
  {
   "cell_type": "markdown",
   "id": "a21d8611",
   "metadata": {},
   "source": [
    "6. list all the key elements from dict in list"
   ]
  },
  {
   "cell_type": "code",
   "execution_count": 37,
   "id": "1014c22a",
   "metadata": {},
   "outputs": [
    {
     "data": {
      "text/plain": [
       "['key1', 234]"
      ]
     },
     "execution_count": 37,
     "metadata": {},
     "output_type": "execute_result"
    }
   ],
   "source": [
    "list(l[0].keys())"
   ]
  },
  {
   "cell_type": "markdown",
   "id": "741eba1f",
   "metadata": {},
   "source": [
    "7. extract all value element from dict in list"
   ]
  },
  {
   "cell_type": "code",
   "execution_count": 39,
   "id": "02ecd904",
   "metadata": {},
   "outputs": [
    {
     "data": {
      "text/plain": [
       "['sudh', [23, 45, 656]]"
      ]
     },
     "execution_count": 39,
     "metadata": {},
     "output_type": "execute_result"
    }
   ],
   "source": [
    "list(l[0].values())"
   ]
  },
  {
   "cell_type": "code",
   "execution_count": null,
   "id": "271c4ee6",
   "metadata": {},
   "outputs": [],
   "source": []
  }
 ],
 "metadata": {
  "kernelspec": {
   "display_name": "Python 3 (ipykernel)",
   "language": "python",
   "name": "python3"
  },
  "language_info": {
   "codemirror_mode": {
    "name": "ipython",
    "version": 3
   },
   "file_extension": ".py",
   "mimetype": "text/x-python",
   "name": "python",
   "nbconvert_exporter": "python",
   "pygments_lexer": "ipython3",
   "version": "3.9.12"
  }
 },
 "nbformat": 4,
 "nbformat_minor": 5
}
