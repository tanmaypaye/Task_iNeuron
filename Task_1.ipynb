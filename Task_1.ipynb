{
 "cells": [
  {
   "cell_type": "code",
   "execution_count": 1,
   "id": "44f9f2b3",
   "metadata": {},
   "outputs": [],
   "source": [
    "s = \"this is my First Python programming class and i am learNING pyton string and its function\""
   ]
  },
  {
   "cell_type": "code",
   "execution_count": 2,
   "id": "06a42a6a",
   "metadata": {},
   "outputs": [
    {
     "data": {
      "text/plain": [
       "str"
      ]
     },
     "execution_count": 2,
     "metadata": {},
     "output_type": "execute_result"
    }
   ],
   "source": [
    "type(s)"
   ]
  },
  {
   "cell_type": "markdown",
   "id": "f095e25c",
   "metadata": {},
   "source": [
    "1. index 1 to index 300 with a jump of3"
   ]
  },
  {
   "cell_type": "code",
   "execution_count": 3,
   "id": "38871ee0",
   "metadata": {},
   "outputs": [
    {
     "data": {
      "text/plain": [
       "'tssyityopgmncsa alrNposi dtfco'"
      ]
     },
     "execution_count": 3,
     "metadata": {},
     "output_type": "execute_result"
    }
   ],
   "source": [
    "s[0:300:3]"
   ]
  },
  {
   "cell_type": "markdown",
   "id": "d9fe235b",
   "metadata": {},
   "source": [
    "2. reverse a str without using fun"
   ]
  },
  {
   "cell_type": "code",
   "execution_count": 4,
   "id": "f3fa6229",
   "metadata": {},
   "outputs": [
    {
     "data": {
      "text/plain": [
       "'noitcnuf sti dna gnirts notyp GNINrael ma i dna ssalc gnimmargorp nohtyP tsriF ym si siht'"
      ]
     },
     "execution_count": 4,
     "metadata": {},
     "output_type": "execute_result"
    }
   ],
   "source": [
    "s[::-1]"
   ]
  },
  {
   "cell_type": "markdown",
   "id": "5988c1ec",
   "metadata": {},
   "source": [
    "3. split a str after conversion of str in uppercase"
   ]
  },
  {
   "cell_type": "code",
   "execution_count": 10,
   "id": "7ba8c109",
   "metadata": {},
   "outputs": [],
   "source": [
    "s1 = s.upper()"
   ]
  },
  {
   "cell_type": "code",
   "execution_count": 11,
   "id": "41517e13",
   "metadata": {},
   "outputs": [
    {
     "data": {
      "text/plain": [
       "['THIS',\n",
       " 'IS',\n",
       " 'MY',\n",
       " 'FIRST',\n",
       " 'PYTHON',\n",
       " 'PROGRAMMING',\n",
       " 'CLASS',\n",
       " 'AND',\n",
       " 'I',\n",
       " 'AM',\n",
       " 'LEARNING',\n",
       " 'PYTON',\n",
       " 'STRING',\n",
       " 'AND',\n",
       " 'ITS',\n",
       " 'FUNCTION']"
      ]
     },
     "execution_count": 11,
     "metadata": {},
     "output_type": "execute_result"
    }
   ],
   "source": [
    "s1.split()"
   ]
  },
  {
   "cell_type": "markdown",
   "id": "37c57407",
   "metadata": {},
   "source": [
    "4. convert str into lower case"
   ]
  },
  {
   "cell_type": "code",
   "execution_count": 13,
   "id": "a9ed8f5f",
   "metadata": {},
   "outputs": [
    {
     "data": {
      "text/plain": [
       "'this is my first python programming class and i am learning pyton string and its function'"
      ]
     },
     "execution_count": 13,
     "metadata": {},
     "output_type": "execute_result"
    }
   ],
   "source": [
    "s.lower()"
   ]
  },
  {
   "cell_type": "markdown",
   "id": "da43f512",
   "metadata": {},
   "source": [
    "5. capitalize str"
   ]
  },
  {
   "cell_type": "code",
   "execution_count": 15,
   "id": "376549fd",
   "metadata": {},
   "outputs": [
    {
     "data": {
      "text/plain": [
       "'This is my first python programming class and i am learning pyton string and its function'"
      ]
     },
     "execution_count": 15,
     "metadata": {},
     "output_type": "execute_result"
    }
   ],
   "source": [
    "s.capitalize()"
   ]
  },
  {
   "cell_type": "markdown",
   "id": "e9900bbf",
   "metadata": {},
   "source": [
    "6. write diff btwn isalnum() and isalpha()"
   ]
  },
  {
   "cell_type": "markdown",
   "id": "6cbcd048",
   "metadata": {},
   "source": [
    "ans. - isalnum is function for identifing the string content both alphabets and numeric or not."
   ]
  },
  {
   "cell_type": "markdown",
   "id": "fb08201d",
   "metadata": {},
   "source": [
    "isalpha is function used for identifing the whole string content aplhabets or not."
   ]
  },
  {
   "cell_type": "markdown",
   "id": "2ab3d78d",
   "metadata": {},
   "source": [
    "7. ex of expandtabs"
   ]
  },
  {
   "cell_type": "code",
   "execution_count": 25,
   "id": "50afde57",
   "metadata": {},
   "outputs": [
    {
     "data": {
      "text/plain": [
       "'Pranav  come    fast!'"
      ]
     },
     "execution_count": 25,
     "metadata": {},
     "output_type": "execute_result"
    }
   ],
   "source": [
    "e = 'Pranav\\tcome\\tfast!'\n",
    "e.expandtabs()"
   ]
  },
  {
   "cell_type": "markdown",
   "id": "50d3b8f8",
   "metadata": {},
   "source": [
    "8. ex of strip, lstrip, and rstrip"
   ]
  },
  {
   "cell_type": "code",
   "execution_count": 28,
   "id": "e8a3beba",
   "metadata": {},
   "outputs": [
    {
     "data": {
      "text/plain": [
       "'hey their'"
      ]
     },
     "execution_count": 28,
     "metadata": {},
     "output_type": "execute_result"
    }
   ],
   "source": [
    "q = \"  hey their  \"\n",
    "q.strip()"
   ]
  },
  {
   "cell_type": "code",
   "execution_count": 29,
   "id": "c00098e8",
   "metadata": {},
   "outputs": [
    {
     "data": {
      "text/plain": [
       "'hey their  '"
      ]
     },
     "execution_count": 29,
     "metadata": {},
     "output_type": "execute_result"
    }
   ],
   "source": [
    "q.lstrip()"
   ]
  },
  {
   "cell_type": "code",
   "execution_count": 30,
   "id": "8100b96d",
   "metadata": {},
   "outputs": [
    {
     "data": {
      "text/plain": [
       "'  hey their'"
      ]
     },
     "execution_count": 30,
     "metadata": {},
     "output_type": "execute_result"
    }
   ],
   "source": [
    "q.rstrip()"
   ]
  },
  {
   "cell_type": "markdown",
   "id": "597afb31",
   "metadata": {},
   "source": [
    "9. replace a str charecters by another char by taking your own ex"
   ]
  },
  {
   "cell_type": "code",
   "execution_count": 32,
   "id": "cfc06176",
   "metadata": {},
   "outputs": [
    {
     "data": {
      "text/plain": [
       "'repwce wll w chwtectors by w!'"
      ]
     },
     "execution_count": 32,
     "metadata": {},
     "output_type": "execute_result"
    }
   ],
   "source": [
    "w = 'repace all a chatectors by w!'\n",
    "w.replace('a', 'w')"
   ]
  },
  {
   "cell_type": "markdown",
   "id": "f4f8e906",
   "metadata": {},
   "source": [
    "10. give defination of str center function with and ex"
   ]
  },
  {
   "cell_type": "code",
   "execution_count": 33,
   "id": "95d388d4",
   "metadata": {},
   "outputs": [
    {
     "data": {
      "text/plain": [
       "'@@@@@@@tanmay@@@@@@@'"
      ]
     },
     "execution_count": 33,
     "metadata": {},
     "output_type": "execute_result"
    }
   ],
   "source": [
    "'''def- this function is put a sting charectors at center position as the number of index is given in the funtion and specified key is placed on both side of string.'''\n",
    "c = \"tanmay\"\n",
    "c.center(20, '@')"
   ]
  },
  {
   "cell_type": "markdown",
   "id": "be9424ed",
   "metadata": {},
   "source": [
    "11. your defin on copiler and interpretor "
   ]
  },
  {
   "cell_type": "markdown",
   "id": "1373b970",
   "metadata": {},
   "source": [
    "copiler translate one sentence at a time. it take less time, but take more time for whole completion."
   ]
  },
  {
   "cell_type": "markdown",
   "id": "03a01c62",
   "metadata": {},
   "source": [
    "interpretor translate whole code into mashine code. it take more time, but takes less time for whole completion."
   ]
  },
  {
   "cell_type": "markdown",
   "id": "33c2ee73",
   "metadata": {},
   "source": [
    "12. python is interpreted of complied language"
   ]
  },
  {
   "cell_type": "markdown",
   "id": "24237c3a",
   "metadata": {},
   "source": [
    "python is both interpreted and complied language. it 1st compile the code then convent into byte code then interpreted and convet into machine language. python translate the code one line at a time so the byte code come into exsistance. for protability it is benifitial. "
   ]
  },
  {
   "cell_type": "markdown",
   "id": "bd1c8a38",
   "metadata": {},
   "source": [
    "13. usecase of python\n",
    "it is used in building many applications, and websites. for automation perpose it is useful. \n"
   ]
  }
 ],
 "metadata": {
  "kernelspec": {
   "display_name": "Python 3 (ipykernel)",
   "language": "python",
   "name": "python3"
  },
  "language_info": {
   "codemirror_mode": {
    "name": "ipython",
    "version": 3
   },
   "file_extension": ".py",
   "mimetype": "text/x-python",
   "name": "python",
   "nbconvert_exporter": "python",
   "pygments_lexer": "ipython3",
   "version": "3.9.12"
  }
 },
 "nbformat": 4,
 "nbformat_minor": 5
}
